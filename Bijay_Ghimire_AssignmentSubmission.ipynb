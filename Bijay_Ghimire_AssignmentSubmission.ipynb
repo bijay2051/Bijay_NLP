{
  "nbformat": 4,
  "nbformat_minor": 0,
  "metadata": {
    "colab": {
      "provenance": [],
      "include_colab_link": true
    },
    "kernelspec": {
      "name": "python3",
      "display_name": "Python 3"
    },
    "language_info": {
      "name": "python"
    }
  },
  "cells": [
    {
      "cell_type": "markdown",
      "metadata": {
        "id": "view-in-github",
        "colab_type": "text"
      },
      "source": [
        "<a href=\"https://colab.research.google.com/github/bijay2051/Bijay_NLP/blob/main/Bijay_Ghimire_AssignmentSubmission.ipynb\" target=\"_parent\"><img src=\"https://colab.research.google.com/assets/colab-badge.svg\" alt=\"Open In Colab\"/></a>"
      ]
    },
    {
      "cell_type": "markdown",
      "source": [
        "# Assignment-1 Frequency Analysis and Bag of Words\n",
        "\n",
        "## Objective\n",
        "- Learn the keywords of NLP\n",
        "- Understand basic of NLP\n",
        "- Explore the Bag of words for basic analysis of text\n",
        "\n"
      ],
      "metadata": {
        "id": "LnRKTrs9pd8O"
      }
    },
    {
      "cell_type": "markdown",
      "source": [
        "## Your Details\n"
      ],
      "metadata": {
        "id": "QkBBpsTNqQnD"
      }
    },
    {
      "cell_type": "code",
      "source": [
        "import datetime\n",
        "\n",
        "student_rollno = 11\n",
        "student_name = 'Bijay Prasad Ghimire'\n",
        "assignment_tag = 'MDS555-2023-Assignment-1'"
      ],
      "metadata": {
        "id": "BpF9fjJuqXBt"
      },
      "execution_count": 1,
      "outputs": []
    },
    {
      "cell_type": "code",
      "source": [
        "# from checker_utils import done\n",
        "def done(task):\n",
        "    _date = datetime.datetime.now()\n",
        "    task = task + \": \" + str(_date)\n",
        "    print('='*len(task), '\\n', task , '\\n', '='*len(task), sep='')\n",
        "    pass"
      ],
      "metadata": {
        "id": "oAyWHgZIr8Et"
      },
      "execution_count": 2,
      "outputs": []
    },
    {
      "cell_type": "markdown",
      "source": [
        "## Literature Review\n",
        "- **Frequency Analysis:**\n",
        "\n",
        "    Frequency analysis is a foundational method within natural language processing (NLP) and data analysis. It is employed to gain insights into the distribution and occurrence of words or tokens within a given text or dataset. This technique entails tallying the occurrences of each unique word or token and creating a frequency distribution or histogram for data visualization. Frequency analysis yields valuable information about the most and least common words, which can prove beneficial for various NLP tasks like text summarization, sentiment analysis, and keyword extraction. Moreover, it aids in the identification of stop words (common words such as \"छ, हो ,छैन, छन् ,गरेको ,र  etc) that can be eliminated to enhance the efficiency of text processing and analysis.\n",
        "\n",
        "- **Bag of Words (BoW):**\n",
        "\n",
        "    The Bag of Words (BoW) model stands as a text representation technique utilized in both natural language processing and machine learning. Its function is to convert a document or collection of text data into numerical form by tabulating the frequency of each word within the document, disregarding word order and grammar. In the BoW model, a document is portrayed as a \"bag\" or \"set\" of words, with each unique word becoming a feature. This transformation results in a high-dimensional vector in which each dimension corresponds to a unique word, and the values in the vector indicate word frequencies. BoW is frequently applied in text classification, information retrieval, and text analysis tasks. Despite its simplification of text data and the loss of sequential information, BoW serves as a valuable foundation for many NLP applications and facilitates the utilization of machine learning algorithms on textual data.\n",
        "\n",
        "- **NLTK (Natural Language Toolkit):**\n",
        "\n",
        "    NLTK stands as a robust library for working with human language data or text. It offers user-friendly interfaces for more than 50 corpora and lexical resources, such as WordNet. NLTK encompasses modules for text preprocessing, tokenization, stemming, lemmatization, part-of-speech tagging, and more. Its extensive usage extends to NLP tasks, which encompass text classification, sentiment analysis, and language processing research.\n",
        "\n",
        "- **scikit-learn (sklearn):**\n",
        "\n",
        "    Scikit-learn represents a well-liked machine learning library for Python. It boasts a broad array of tools for data analysis and modeling, encompassing classification, regression, clustering, dimensionality reduction, and model evaluation. Scikit-learn furnishes a consistent API and straightforward implementations of various machine learning algorithms. It caters to both novices and experts in machine learning and data science.\n",
        "\n",
        "- **Pandas:**\n",
        "\n",
        "    Pandas stands out as a potent library for manipulating and analyzing data within the Python programming language. It introduces two primary data structures, namely the DataFrame and Series, for handling structured data. Pandas facilitates data cleaning, transformation, aggregation, and exploration. It is conventionally employed for data preprocessing and analysis tasks within the realms of data science and data engineering.\n",
        "\n"
      ],
      "metadata": {
        "id": "LWnpPiiRp7QL"
      }
    },
    {
      "cell_type": "markdown",
      "source": [
        "## Task 1: Dataset Preparation:\n",
        "\n",
        "Prepare the Nepali news dataset *(hint: you can obtain text from news websites, at least 20 different news of 2/3 different categories)*. Host the dataset in the public git repository."
      ],
      "metadata": {
        "id": "B9bq4oXes_E-"
      }
    },
    {
      "cell_type": "code",
      "source": [
        "# !pip install selenium\n",
        "# !pip install webdriver-manager"
      ],
      "metadata": {
        "id": "nt8lx-L9SFjR"
      },
      "execution_count": null,
      "outputs": []
    },
    {
      "cell_type": "code",
      "source": [
        "import json\n",
        "import requests\n",
        "import pandas as pd\n",
        "from selenium import webdriver\n",
        "from webdriver_manager.chrome import ChromeDriverManager\n",
        "from bs4 import BeautifulSoup\n",
        "import re\n",
        "import time"
      ],
      "metadata": {
        "id": "iMGs2VvhPpfV"
      },
      "execution_count": 21,
      "outputs": []
    },
    {
      "cell_type": "code",
      "source": [
        "url_head='https://annapurnapost.com/category/'\n",
        "def get_driver():\n",
        "#   driver = webdriver.Chrome(ChromeDriverManager().install())\n",
        "    driver=webdriver.Chrome(ChromeDriverManager(version='114.0.5735.90').install())\n",
        "    return driver\n",
        "\n",
        "\n",
        "def contents_profiles(driver,url):\n",
        "    driver.get(url)\n",
        "    content=driver.page_source\n",
        "    return content\n",
        "\n",
        "\n",
        "def data_prepare(url_head):\n",
        "\n",
        "    categories=['politics','sports','economy']\n",
        "\n",
        "    news_label=[]\n",
        "    headline=[]\n",
        "\n",
        "    for category in categories:\n",
        "        driver=get_driver()\n",
        "        url_main=url_head+category\n",
        "        for n in range(1,4):\n",
        "            url=f'{url_main}/?page={n}'\n",
        "            content=contents_profiles(driver,url)\n",
        "            soup=BeautifulSoup(content,'lxml')\n",
        "            for a in soup.find_all('h3',attrs={'class':'card__title'}):\n",
        "                news=a.text\n",
        "                news=news.strip()\n",
        "                if not news.startswith(\"काठमाडौं\"):\n",
        "                    headline.append(news)\n",
        "                    news_label.append(category)\n",
        "\n",
        "    df=pd.DataFrame({\"Headline\":headline,\"Category\":news_label})\n",
        "    df=df.sample(frac=1,random_state=14,ignore_index=True).reset_index(drop=True)\n",
        "    df.to_csv(\"news_data_update.csv\")"
      ],
      "metadata": {
        "id": "eJPOguP3pdg2"
      },
      "execution_count": 22,
      "outputs": []
    },
    {
      "cell_type": "code",
      "source": [
        "data=pd.read_csv(\"https://raw.githubusercontent.com/bijay2051/Bijay_NLP/main/news_data.csv\")\n",
        "data=data.drop(columns=['Unnamed: 0'],axis=1)\n",
        "data"
      ],
      "metadata": {
        "colab": {
          "base_uri": "https://localhost:8080/",
          "height": 424
        },
        "id": "yT7m9w5qSSN-",
        "outputId": "a930ffeb-2bfd-4e41-c9b6-df7a9b379b08"
      },
      "execution_count": 32,
      "outputs": [
        {
          "output_type": "execute_result",
          "data": {
            "text/plain": [
              "                                              Headline  Category\n",
              "0    प्रधानमन्त्रीले नै जातीय हिंसा फैलाए : एमाले न...  politics\n",
              "1                          निजगढमा विमानस्थल बनाउन जोड   economy\n",
              "2           नेपालको दोस्रो विकेट क्षति, भीम सार्की आउट    sports\n",
              "3                            पर्यटन विकासमा ध्यान खै ?   economy\n",
              "4          एसिया कप क्रिकेट : नेपाल र भारत दुवै दबाबमा    sports\n",
              "..                                                 ...       ...\n",
              "174                     मेसी भन्यो कि हुरुक्कै नेम्बाङ    sports\n",
              "175             ‘स्वदेशी र विदेशी लगानीले देशको विकास’   economy\n",
              "176  एमालेले सुवास नेम्वाङको स्मृतिमा सातै प्रदेशमा...  politics\n",
              "177                          खेलाडी संघमा पुनः श्रेष्ठ    sports\n",
              "178            एक दिवसीयमा कुशल भुर्तेलले कटाए हजार रन    sports\n",
              "\n",
              "[179 rows x 2 columns]"
            ],
            "text/html": [
              "\n",
              "  <div id=\"df-dd1e2e7f-c067-40b3-908f-5f6998398e02\" class=\"colab-df-container\">\n",
              "    <div>\n",
              "<style scoped>\n",
              "    .dataframe tbody tr th:only-of-type {\n",
              "        vertical-align: middle;\n",
              "    }\n",
              "\n",
              "    .dataframe tbody tr th {\n",
              "        vertical-align: top;\n",
              "    }\n",
              "\n",
              "    .dataframe thead th {\n",
              "        text-align: right;\n",
              "    }\n",
              "</style>\n",
              "<table border=\"1\" class=\"dataframe\">\n",
              "  <thead>\n",
              "    <tr style=\"text-align: right;\">\n",
              "      <th></th>\n",
              "      <th>Headline</th>\n",
              "      <th>Category</th>\n",
              "    </tr>\n",
              "  </thead>\n",
              "  <tbody>\n",
              "    <tr>\n",
              "      <th>0</th>\n",
              "      <td>प्रधानमन्त्रीले नै जातीय हिंसा फैलाए : एमाले न...</td>\n",
              "      <td>politics</td>\n",
              "    </tr>\n",
              "    <tr>\n",
              "      <th>1</th>\n",
              "      <td>निजगढमा विमानस्थल बनाउन जोड</td>\n",
              "      <td>economy</td>\n",
              "    </tr>\n",
              "    <tr>\n",
              "      <th>2</th>\n",
              "      <td>नेपालको दोस्रो विकेट क्षति, भीम सार्की आउट</td>\n",
              "      <td>sports</td>\n",
              "    </tr>\n",
              "    <tr>\n",
              "      <th>3</th>\n",
              "      <td>पर्यटन विकासमा ध्यान खै ?</td>\n",
              "      <td>economy</td>\n",
              "    </tr>\n",
              "    <tr>\n",
              "      <th>4</th>\n",
              "      <td>एसिया कप क्रिकेट : नेपाल र भारत दुवै दबाबमा</td>\n",
              "      <td>sports</td>\n",
              "    </tr>\n",
              "    <tr>\n",
              "      <th>...</th>\n",
              "      <td>...</td>\n",
              "      <td>...</td>\n",
              "    </tr>\n",
              "    <tr>\n",
              "      <th>174</th>\n",
              "      <td>मेसी भन्यो कि हुरुक्कै नेम्बाङ</td>\n",
              "      <td>sports</td>\n",
              "    </tr>\n",
              "    <tr>\n",
              "      <th>175</th>\n",
              "      <td>‘स्वदेशी र विदेशी लगानीले देशको विकास’</td>\n",
              "      <td>economy</td>\n",
              "    </tr>\n",
              "    <tr>\n",
              "      <th>176</th>\n",
              "      <td>एमालेले सुवास नेम्वाङको स्मृतिमा सातै प्रदेशमा...</td>\n",
              "      <td>politics</td>\n",
              "    </tr>\n",
              "    <tr>\n",
              "      <th>177</th>\n",
              "      <td>खेलाडी संघमा पुनः श्रेष्ठ</td>\n",
              "      <td>sports</td>\n",
              "    </tr>\n",
              "    <tr>\n",
              "      <th>178</th>\n",
              "      <td>एक दिवसीयमा कुशल भुर्तेलले कटाए हजार रन</td>\n",
              "      <td>sports</td>\n",
              "    </tr>\n",
              "  </tbody>\n",
              "</table>\n",
              "<p>179 rows × 2 columns</p>\n",
              "</div>\n",
              "    <div class=\"colab-df-buttons\">\n",
              "\n",
              "  <div class=\"colab-df-container\">\n",
              "    <button class=\"colab-df-convert\" onclick=\"convertToInteractive('df-dd1e2e7f-c067-40b3-908f-5f6998398e02')\"\n",
              "            title=\"Convert this dataframe to an interactive table.\"\n",
              "            style=\"display:none;\">\n",
              "\n",
              "  <svg xmlns=\"http://www.w3.org/2000/svg\" height=\"24px\" viewBox=\"0 -960 960 960\">\n",
              "    <path d=\"M120-120v-720h720v720H120Zm60-500h600v-160H180v160Zm220 220h160v-160H400v160Zm0 220h160v-160H400v160ZM180-400h160v-160H180v160Zm440 0h160v-160H620v160ZM180-180h160v-160H180v160Zm440 0h160v-160H620v160Z\"/>\n",
              "  </svg>\n",
              "    </button>\n",
              "\n",
              "  <style>\n",
              "    .colab-df-container {\n",
              "      display:flex;\n",
              "      gap: 12px;\n",
              "    }\n",
              "\n",
              "    .colab-df-convert {\n",
              "      background-color: #E8F0FE;\n",
              "      border: none;\n",
              "      border-radius: 50%;\n",
              "      cursor: pointer;\n",
              "      display: none;\n",
              "      fill: #1967D2;\n",
              "      height: 32px;\n",
              "      padding: 0 0 0 0;\n",
              "      width: 32px;\n",
              "    }\n",
              "\n",
              "    .colab-df-convert:hover {\n",
              "      background-color: #E2EBFA;\n",
              "      box-shadow: 0px 1px 2px rgba(60, 64, 67, 0.3), 0px 1px 3px 1px rgba(60, 64, 67, 0.15);\n",
              "      fill: #174EA6;\n",
              "    }\n",
              "\n",
              "    .colab-df-buttons div {\n",
              "      margin-bottom: 4px;\n",
              "    }\n",
              "\n",
              "    [theme=dark] .colab-df-convert {\n",
              "      background-color: #3B4455;\n",
              "      fill: #D2E3FC;\n",
              "    }\n",
              "\n",
              "    [theme=dark] .colab-df-convert:hover {\n",
              "      background-color: #434B5C;\n",
              "      box-shadow: 0px 1px 3px 1px rgba(0, 0, 0, 0.15);\n",
              "      filter: drop-shadow(0px 1px 2px rgba(0, 0, 0, 0.3));\n",
              "      fill: #FFFFFF;\n",
              "    }\n",
              "  </style>\n",
              "\n",
              "    <script>\n",
              "      const buttonEl =\n",
              "        document.querySelector('#df-dd1e2e7f-c067-40b3-908f-5f6998398e02 button.colab-df-convert');\n",
              "      buttonEl.style.display =\n",
              "        google.colab.kernel.accessAllowed ? 'block' : 'none';\n",
              "\n",
              "      async function convertToInteractive(key) {\n",
              "        const element = document.querySelector('#df-dd1e2e7f-c067-40b3-908f-5f6998398e02');\n",
              "        const dataTable =\n",
              "          await google.colab.kernel.invokeFunction('convertToInteractive',\n",
              "                                                    [key], {});\n",
              "        if (!dataTable) return;\n",
              "\n",
              "        const docLinkHtml = 'Like what you see? Visit the ' +\n",
              "          '<a target=\"_blank\" href=https://colab.research.google.com/notebooks/data_table.ipynb>data table notebook</a>'\n",
              "          + ' to learn more about interactive tables.';\n",
              "        element.innerHTML = '';\n",
              "        dataTable['output_type'] = 'display_data';\n",
              "        await google.colab.output.renderOutput(dataTable, element);\n",
              "        const docLink = document.createElement('div');\n",
              "        docLink.innerHTML = docLinkHtml;\n",
              "        element.appendChild(docLink);\n",
              "      }\n",
              "    </script>\n",
              "  </div>\n",
              "\n",
              "\n",
              "<div id=\"df-dfb8d3d6-4bc3-4725-88e9-0ddc3083ac38\">\n",
              "  <button class=\"colab-df-quickchart\" onclick=\"quickchart('df-dfb8d3d6-4bc3-4725-88e9-0ddc3083ac38')\"\n",
              "            title=\"Suggest charts.\"\n",
              "            style=\"display:none;\">\n",
              "\n",
              "<svg xmlns=\"http://www.w3.org/2000/svg\" height=\"24px\"viewBox=\"0 0 24 24\"\n",
              "     width=\"24px\">\n",
              "    <g>\n",
              "        <path d=\"M19 3H5c-1.1 0-2 .9-2 2v14c0 1.1.9 2 2 2h14c1.1 0 2-.9 2-2V5c0-1.1-.9-2-2-2zM9 17H7v-7h2v7zm4 0h-2V7h2v10zm4 0h-2v-4h2v4z\"/>\n",
              "    </g>\n",
              "</svg>\n",
              "  </button>\n",
              "\n",
              "<style>\n",
              "  .colab-df-quickchart {\n",
              "      --bg-color: #E8F0FE;\n",
              "      --fill-color: #1967D2;\n",
              "      --hover-bg-color: #E2EBFA;\n",
              "      --hover-fill-color: #174EA6;\n",
              "      --disabled-fill-color: #AAA;\n",
              "      --disabled-bg-color: #DDD;\n",
              "  }\n",
              "\n",
              "  [theme=dark] .colab-df-quickchart {\n",
              "      --bg-color: #3B4455;\n",
              "      --fill-color: #D2E3FC;\n",
              "      --hover-bg-color: #434B5C;\n",
              "      --hover-fill-color: #FFFFFF;\n",
              "      --disabled-bg-color: #3B4455;\n",
              "      --disabled-fill-color: #666;\n",
              "  }\n",
              "\n",
              "  .colab-df-quickchart {\n",
              "    background-color: var(--bg-color);\n",
              "    border: none;\n",
              "    border-radius: 50%;\n",
              "    cursor: pointer;\n",
              "    display: none;\n",
              "    fill: var(--fill-color);\n",
              "    height: 32px;\n",
              "    padding: 0;\n",
              "    width: 32px;\n",
              "  }\n",
              "\n",
              "  .colab-df-quickchart:hover {\n",
              "    background-color: var(--hover-bg-color);\n",
              "    box-shadow: 0 1px 2px rgba(60, 64, 67, 0.3), 0 1px 3px 1px rgba(60, 64, 67, 0.15);\n",
              "    fill: var(--button-hover-fill-color);\n",
              "  }\n",
              "\n",
              "  .colab-df-quickchart-complete:disabled,\n",
              "  .colab-df-quickchart-complete:disabled:hover {\n",
              "    background-color: var(--disabled-bg-color);\n",
              "    fill: var(--disabled-fill-color);\n",
              "    box-shadow: none;\n",
              "  }\n",
              "\n",
              "  .colab-df-spinner {\n",
              "    border: 2px solid var(--fill-color);\n",
              "    border-color: transparent;\n",
              "    border-bottom-color: var(--fill-color);\n",
              "    animation:\n",
              "      spin 1s steps(1) infinite;\n",
              "  }\n",
              "\n",
              "  @keyframes spin {\n",
              "    0% {\n",
              "      border-color: transparent;\n",
              "      border-bottom-color: var(--fill-color);\n",
              "      border-left-color: var(--fill-color);\n",
              "    }\n",
              "    20% {\n",
              "      border-color: transparent;\n",
              "      border-left-color: var(--fill-color);\n",
              "      border-top-color: var(--fill-color);\n",
              "    }\n",
              "    30% {\n",
              "      border-color: transparent;\n",
              "      border-left-color: var(--fill-color);\n",
              "      border-top-color: var(--fill-color);\n",
              "      border-right-color: var(--fill-color);\n",
              "    }\n",
              "    40% {\n",
              "      border-color: transparent;\n",
              "      border-right-color: var(--fill-color);\n",
              "      border-top-color: var(--fill-color);\n",
              "    }\n",
              "    60% {\n",
              "      border-color: transparent;\n",
              "      border-right-color: var(--fill-color);\n",
              "    }\n",
              "    80% {\n",
              "      border-color: transparent;\n",
              "      border-right-color: var(--fill-color);\n",
              "      border-bottom-color: var(--fill-color);\n",
              "    }\n",
              "    90% {\n",
              "      border-color: transparent;\n",
              "      border-bottom-color: var(--fill-color);\n",
              "    }\n",
              "  }\n",
              "</style>\n",
              "\n",
              "  <script>\n",
              "    async function quickchart(key) {\n",
              "      const quickchartButtonEl =\n",
              "        document.querySelector('#' + key + ' button');\n",
              "      quickchartButtonEl.disabled = true;  // To prevent multiple clicks.\n",
              "      quickchartButtonEl.classList.add('colab-df-spinner');\n",
              "      try {\n",
              "        const charts = await google.colab.kernel.invokeFunction(\n",
              "            'suggestCharts', [key], {});\n",
              "      } catch (error) {\n",
              "        console.error('Error during call to suggestCharts:', error);\n",
              "      }\n",
              "      quickchartButtonEl.classList.remove('colab-df-spinner');\n",
              "      quickchartButtonEl.classList.add('colab-df-quickchart-complete');\n",
              "    }\n",
              "    (() => {\n",
              "      let quickchartButtonEl =\n",
              "        document.querySelector('#df-dfb8d3d6-4bc3-4725-88e9-0ddc3083ac38 button');\n",
              "      quickchartButtonEl.style.display =\n",
              "        google.colab.kernel.accessAllowed ? 'block' : 'none';\n",
              "    })();\n",
              "  </script>\n",
              "</div>\n",
              "    </div>\n",
              "  </div>\n"
            ]
          },
          "metadata": {},
          "execution_count": 32
        }
      ]
    },
    {
      "cell_type": "code",
      "execution_count": 4,
      "metadata": {
        "id": "FV8206thpbmo",
        "colab": {
          "base_uri": "https://localhost:8080/"
        },
        "outputId": "21450741-3d1f-44bb-af34-72a079410823"
      },
      "outputs": [
        {
          "output_type": "stream",
          "name": "stdout",
          "text": [
            "==================================\n",
            "Task 1: 2023-09-16 18:10:49.230360\n",
            "==================================\n"
          ]
        }
      ],
      "source": [
        "done('Task 1')"
      ]
    },
    {
      "cell_type": "markdown",
      "source": [
        "## Task  2.1: Frequency Analysis\n",
        "\n",
        "Perform the frequency analysis on the text collected"
      ],
      "metadata": {
        "id": "zUE4li1lt1Aj"
      }
    },
    {
      "cell_type": "code",
      "source": [
        "# TODO\n",
        "import nltk\n",
        "import matplotlib.pyplot as plt\n",
        "from nltk import FreqDist\n",
        "from nltk.tokenize import word_tokenize\n",
        "import string\n",
        "nltk.download('punkt')\n",
        "\n",
        "\n",
        "data.Category.value_counts()"
      ],
      "metadata": {
        "id": "srs4zKYVt1Ao",
        "colab": {
          "base_uri": "https://localhost:8080/"
        },
        "outputId": "a569b5fe-d14b-40a1-a79f-cf9bd1231841"
      },
      "execution_count": 37,
      "outputs": [
        {
          "output_type": "stream",
          "name": "stderr",
          "text": [
            "[nltk_data] Downloading package punkt to /root/nltk_data...\n",
            "[nltk_data]   Unzipping tokenizers/punkt.zip.\n"
          ]
        },
        {
          "output_type": "execute_result",
          "data": {
            "text/plain": [
              "politics    60\n",
              "sports      60\n",
              "economy     59\n",
              "Name: Category, dtype: int64"
            ]
          },
          "metadata": {},
          "execution_count": 37
        }
      ]
    },
    {
      "cell_type": "code",
      "source": [
        "# Tokenization\n",
        "def remove_punctuation(text):\n",
        "    return ''.join([char for char in text if char not in string.punctuation])\n",
        "\n",
        "data['tokenized_text'] = data['Headline'].apply(lambda x: word_tokenize(x))\n",
        "data['tokenized_text'] = data['tokenized_text'].apply(lambda x: [remove_punctuation(word.lower()) for word in x])\n",
        "\n",
        "data['tokenized_text'] = data['tokenized_text'].apply(lambda x: [word for word in x if word])\n",
        "\n",
        "all_words = [word for words in data['tokenized_text'] for word in words]\n",
        "freq_dist = FreqDist(all_words)\n",
        "top_words = freq_dist.most_common(10)\n",
        "top_words_dict = dict(top_words)\n",
        "print(top_words_dict)"
      ],
      "metadata": {
        "colab": {
          "base_uri": "https://localhost:8080/"
        },
        "id": "AHYjYa-SXozA",
        "outputId": "0a834a2f-036a-4b8e-a8ad-faba6d1ad586"
      },
      "execution_count": 38,
      "outputs": [
        {
          "output_type": "stream",
          "name": "stdout",
          "text": [
            "{'र': 15, 'गर्ने': 12, 'नेपालको': 11, 'नेपाल': 9, 'सेयर': 9, 'आउट': 8, 'नेपाली': 8, 'लागि': 8, 'गर्न': 7, 'नेम्वाङको': 7}\n"
          ]
        }
      ]
    },
    {
      "cell_type": "code",
      "execution_count": null,
      "metadata": {
        "id": "A8cv8IuTt1Ap",
        "colab": {
          "base_uri": "https://localhost:8080/"
        },
        "outputId": "cd475825-803f-4efd-d243-dabaacd16d01"
      },
      "outputs": [
        {
          "output_type": "stream",
          "name": "stdout",
          "text": [
            "====================================\n",
            "Task 2.1: 2023-09-02 02:03:00.077236\n",
            "====================================\n"
          ]
        }
      ],
      "source": [
        "done('Task 2.1')"
      ]
    },
    {
      "cell_type": "markdown",
      "source": [
        "## Task  2.2: Filter Stop words\n",
        "\n",
        "Improve Performance analysis by filtering stop words (you can also develop rule based )\n"
      ],
      "metadata": {
        "id": "Q1h3Hpzit1RZ"
      }
    },
    {
      "cell_type": "code",
      "source": [
        "# TODO\n",
        "nltk.download('stopwords')\n",
        "from nltk.corpus import stopwords\n",
        "def remove_stopwords_and_join(tokens):\n",
        "    stop_words = set(stopwords.words('nepali'))\n",
        "    filtered_tokens = [word for word in tokens if word not in stop_words]\n",
        "    return ' '.join(filtered_tokens)\n",
        "data['preprocessed_headlines'] = data['tokenized_text'].apply(remove_stopwords_and_join)\n",
        "data"
      ],
      "metadata": {
        "id": "bwjPTC2Ht1Rb",
        "colab": {
          "base_uri": "https://localhost:8080/",
          "height": 459
        },
        "outputId": "689727bc-8a47-4beb-f03f-dba659eea62e"
      },
      "execution_count": 39,
      "outputs": [
        {
          "output_type": "stream",
          "name": "stderr",
          "text": [
            "[nltk_data] Downloading package stopwords to /root/nltk_data...\n",
            "[nltk_data]   Unzipping corpora/stopwords.zip.\n"
          ]
        },
        {
          "output_type": "execute_result",
          "data": {
            "text/plain": [
              "                                              Headline  Category  \\\n",
              "0    प्रधानमन्त्रीले नै जातीय हिंसा फैलाए : एमाले न...  politics   \n",
              "1                          निजगढमा विमानस्थल बनाउन जोड   economy   \n",
              "2           नेपालको दोस्रो विकेट क्षति, भीम सार्की आउट    sports   \n",
              "3                            पर्यटन विकासमा ध्यान खै ?   economy   \n",
              "4          एसिया कप क्रिकेट : नेपाल र भारत दुवै दबाबमा    sports   \n",
              "..                                                 ...       ...   \n",
              "174                     मेसी भन्यो कि हुरुक्कै नेम्बाङ    sports   \n",
              "175             ‘स्वदेशी र विदेशी लगानीले देशको विकास’   economy   \n",
              "176  एमालेले सुवास नेम्वाङको स्मृतिमा सातै प्रदेशमा...  politics   \n",
              "177                          खेलाडी संघमा पुनः श्रेष्ठ    sports   \n",
              "178            एक दिवसीयमा कुशल भुर्तेलले कटाए हजार रन    sports   \n",
              "\n",
              "                                        tokenized_text  \\\n",
              "0    [प्रधानमन्त्रीले, नै, जातीय, हिंसा, फैलाए, एमा...   \n",
              "1                     [निजगढमा, विमानस्थल, बनाउन, जोड]   \n",
              "2    [नेपालको, दोस्रो, विकेट, क्षति, भीम, सार्की, आउट]   \n",
              "3                         [पर्यटन, विकासमा, ध्यान, खै]   \n",
              "4    [एसिया, कप, क्रिकेट, नेपाल, र, भारत, दुवै, दबा...   \n",
              "..                                                 ...   \n",
              "174               [मेसी, भन्यो, कि, हुरुक्कै, नेम्बाङ]   \n",
              "175  [‘, स्वदेशी, र, विदेशी, लगानीले, देशको, विकास, ’]   \n",
              "176  [एमालेले, सुवास, नेम्वाङको, स्मृतिमा, सातै, प्...   \n",
              "177                     [खेलाडी, संघमा, पुनः, श्रेष्ठ]   \n",
              "178    [एक, दिवसीयमा, कुशल, भुर्तेलले, कटाए, हजार, रन]   \n",
              "\n",
              "                                preprocessed_headlines  \n",
              "0    प्रधानमन्त्रीले जातीय हिंसा फैलाए एमाले नेता ब...  \n",
              "1                          निजगढमा विमानस्थल बनाउन जोड  \n",
              "2                   नेपालको विकेट क्षति भीम सार्की आउट  \n",
              "3                              पर्यटन विकासमा ध्यान खै  \n",
              "4              एसिया कप क्रिकेट नेपाल भारत दुवै दबाबमा  \n",
              "..                                                 ...  \n",
              "174                        मेसी भन्यो हुरुक्कै नेम्बाङ  \n",
              "175             ‘ स्वदेशी विदेशी लगानीले देशको विकास ’  \n",
              "176  एमालेले सुवास नेम्वाङको स्मृतिमा सातै प्रदेशमा...  \n",
              "177                          खेलाडी संघमा पुनः श्रेष्ठ  \n",
              "178               दिवसीयमा कुशल भुर्तेलले कटाए हजार रन  \n",
              "\n",
              "[179 rows x 4 columns]"
            ],
            "text/html": [
              "\n",
              "  <div id=\"df-09ac8d33-96dd-431c-8792-889e51455459\" class=\"colab-df-container\">\n",
              "    <div>\n",
              "<style scoped>\n",
              "    .dataframe tbody tr th:only-of-type {\n",
              "        vertical-align: middle;\n",
              "    }\n",
              "\n",
              "    .dataframe tbody tr th {\n",
              "        vertical-align: top;\n",
              "    }\n",
              "\n",
              "    .dataframe thead th {\n",
              "        text-align: right;\n",
              "    }\n",
              "</style>\n",
              "<table border=\"1\" class=\"dataframe\">\n",
              "  <thead>\n",
              "    <tr style=\"text-align: right;\">\n",
              "      <th></th>\n",
              "      <th>Headline</th>\n",
              "      <th>Category</th>\n",
              "      <th>tokenized_text</th>\n",
              "      <th>preprocessed_headlines</th>\n",
              "    </tr>\n",
              "  </thead>\n",
              "  <tbody>\n",
              "    <tr>\n",
              "      <th>0</th>\n",
              "      <td>प्रधानमन्त्रीले नै जातीय हिंसा फैलाए : एमाले न...</td>\n",
              "      <td>politics</td>\n",
              "      <td>[प्रधानमन्त्रीले, नै, जातीय, हिंसा, फैलाए, एमा...</td>\n",
              "      <td>प्रधानमन्त्रीले जातीय हिंसा फैलाए एमाले नेता ब...</td>\n",
              "    </tr>\n",
              "    <tr>\n",
              "      <th>1</th>\n",
              "      <td>निजगढमा विमानस्थल बनाउन जोड</td>\n",
              "      <td>economy</td>\n",
              "      <td>[निजगढमा, विमानस्थल, बनाउन, जोड]</td>\n",
              "      <td>निजगढमा विमानस्थल बनाउन जोड</td>\n",
              "    </tr>\n",
              "    <tr>\n",
              "      <th>2</th>\n",
              "      <td>नेपालको दोस्रो विकेट क्षति, भीम सार्की आउट</td>\n",
              "      <td>sports</td>\n",
              "      <td>[नेपालको, दोस्रो, विकेट, क्षति, भीम, सार्की, आउट]</td>\n",
              "      <td>नेपालको विकेट क्षति भीम सार्की आउट</td>\n",
              "    </tr>\n",
              "    <tr>\n",
              "      <th>3</th>\n",
              "      <td>पर्यटन विकासमा ध्यान खै ?</td>\n",
              "      <td>economy</td>\n",
              "      <td>[पर्यटन, विकासमा, ध्यान, खै]</td>\n",
              "      <td>पर्यटन विकासमा ध्यान खै</td>\n",
              "    </tr>\n",
              "    <tr>\n",
              "      <th>4</th>\n",
              "      <td>एसिया कप क्रिकेट : नेपाल र भारत दुवै दबाबमा</td>\n",
              "      <td>sports</td>\n",
              "      <td>[एसिया, कप, क्रिकेट, नेपाल, र, भारत, दुवै, दबा...</td>\n",
              "      <td>एसिया कप क्रिकेट नेपाल भारत दुवै दबाबमा</td>\n",
              "    </tr>\n",
              "    <tr>\n",
              "      <th>...</th>\n",
              "      <td>...</td>\n",
              "      <td>...</td>\n",
              "      <td>...</td>\n",
              "      <td>...</td>\n",
              "    </tr>\n",
              "    <tr>\n",
              "      <th>174</th>\n",
              "      <td>मेसी भन्यो कि हुरुक्कै नेम्बाङ</td>\n",
              "      <td>sports</td>\n",
              "      <td>[मेसी, भन्यो, कि, हुरुक्कै, नेम्बाङ]</td>\n",
              "      <td>मेसी भन्यो हुरुक्कै नेम्बाङ</td>\n",
              "    </tr>\n",
              "    <tr>\n",
              "      <th>175</th>\n",
              "      <td>‘स्वदेशी र विदेशी लगानीले देशको विकास’</td>\n",
              "      <td>economy</td>\n",
              "      <td>[‘, स्वदेशी, र, विदेशी, लगानीले, देशको, विकास, ’]</td>\n",
              "      <td>‘ स्वदेशी विदेशी लगानीले देशको विकास ’</td>\n",
              "    </tr>\n",
              "    <tr>\n",
              "      <th>176</th>\n",
              "      <td>एमालेले सुवास नेम्वाङको स्मृतिमा सातै प्रदेशमा...</td>\n",
              "      <td>politics</td>\n",
              "      <td>[एमालेले, सुवास, नेम्वाङको, स्मृतिमा, सातै, प्...</td>\n",
              "      <td>एमालेले सुवास नेम्वाङको स्मृतिमा सातै प्रदेशमा...</td>\n",
              "    </tr>\n",
              "    <tr>\n",
              "      <th>177</th>\n",
              "      <td>खेलाडी संघमा पुनः श्रेष्ठ</td>\n",
              "      <td>sports</td>\n",
              "      <td>[खेलाडी, संघमा, पुनः, श्रेष्ठ]</td>\n",
              "      <td>खेलाडी संघमा पुनः श्रेष्ठ</td>\n",
              "    </tr>\n",
              "    <tr>\n",
              "      <th>178</th>\n",
              "      <td>एक दिवसीयमा कुशल भुर्तेलले कटाए हजार रन</td>\n",
              "      <td>sports</td>\n",
              "      <td>[एक, दिवसीयमा, कुशल, भुर्तेलले, कटाए, हजार, रन]</td>\n",
              "      <td>दिवसीयमा कुशल भुर्तेलले कटाए हजार रन</td>\n",
              "    </tr>\n",
              "  </tbody>\n",
              "</table>\n",
              "<p>179 rows × 4 columns</p>\n",
              "</div>\n",
              "    <div class=\"colab-df-buttons\">\n",
              "\n",
              "  <div class=\"colab-df-container\">\n",
              "    <button class=\"colab-df-convert\" onclick=\"convertToInteractive('df-09ac8d33-96dd-431c-8792-889e51455459')\"\n",
              "            title=\"Convert this dataframe to an interactive table.\"\n",
              "            style=\"display:none;\">\n",
              "\n",
              "  <svg xmlns=\"http://www.w3.org/2000/svg\" height=\"24px\" viewBox=\"0 -960 960 960\">\n",
              "    <path d=\"M120-120v-720h720v720H120Zm60-500h600v-160H180v160Zm220 220h160v-160H400v160Zm0 220h160v-160H400v160ZM180-400h160v-160H180v160Zm440 0h160v-160H620v160ZM180-180h160v-160H180v160Zm440 0h160v-160H620v160Z\"/>\n",
              "  </svg>\n",
              "    </button>\n",
              "\n",
              "  <style>\n",
              "    .colab-df-container {\n",
              "      display:flex;\n",
              "      gap: 12px;\n",
              "    }\n",
              "\n",
              "    .colab-df-convert {\n",
              "      background-color: #E8F0FE;\n",
              "      border: none;\n",
              "      border-radius: 50%;\n",
              "      cursor: pointer;\n",
              "      display: none;\n",
              "      fill: #1967D2;\n",
              "      height: 32px;\n",
              "      padding: 0 0 0 0;\n",
              "      width: 32px;\n",
              "    }\n",
              "\n",
              "    .colab-df-convert:hover {\n",
              "      background-color: #E2EBFA;\n",
              "      box-shadow: 0px 1px 2px rgba(60, 64, 67, 0.3), 0px 1px 3px 1px rgba(60, 64, 67, 0.15);\n",
              "      fill: #174EA6;\n",
              "    }\n",
              "\n",
              "    .colab-df-buttons div {\n",
              "      margin-bottom: 4px;\n",
              "    }\n",
              "\n",
              "    [theme=dark] .colab-df-convert {\n",
              "      background-color: #3B4455;\n",
              "      fill: #D2E3FC;\n",
              "    }\n",
              "\n",
              "    [theme=dark] .colab-df-convert:hover {\n",
              "      background-color: #434B5C;\n",
              "      box-shadow: 0px 1px 3px 1px rgba(0, 0, 0, 0.15);\n",
              "      filter: drop-shadow(0px 1px 2px rgba(0, 0, 0, 0.3));\n",
              "      fill: #FFFFFF;\n",
              "    }\n",
              "  </style>\n",
              "\n",
              "    <script>\n",
              "      const buttonEl =\n",
              "        document.querySelector('#df-09ac8d33-96dd-431c-8792-889e51455459 button.colab-df-convert');\n",
              "      buttonEl.style.display =\n",
              "        google.colab.kernel.accessAllowed ? 'block' : 'none';\n",
              "\n",
              "      async function convertToInteractive(key) {\n",
              "        const element = document.querySelector('#df-09ac8d33-96dd-431c-8792-889e51455459');\n",
              "        const dataTable =\n",
              "          await google.colab.kernel.invokeFunction('convertToInteractive',\n",
              "                                                    [key], {});\n",
              "        if (!dataTable) return;\n",
              "\n",
              "        const docLinkHtml = 'Like what you see? Visit the ' +\n",
              "          '<a target=\"_blank\" href=https://colab.research.google.com/notebooks/data_table.ipynb>data table notebook</a>'\n",
              "          + ' to learn more about interactive tables.';\n",
              "        element.innerHTML = '';\n",
              "        dataTable['output_type'] = 'display_data';\n",
              "        await google.colab.output.renderOutput(dataTable, element);\n",
              "        const docLink = document.createElement('div');\n",
              "        docLink.innerHTML = docLinkHtml;\n",
              "        element.appendChild(docLink);\n",
              "      }\n",
              "    </script>\n",
              "  </div>\n",
              "\n",
              "\n",
              "<div id=\"df-4675436a-6a0f-4175-9922-1d084182af37\">\n",
              "  <button class=\"colab-df-quickchart\" onclick=\"quickchart('df-4675436a-6a0f-4175-9922-1d084182af37')\"\n",
              "            title=\"Suggest charts.\"\n",
              "            style=\"display:none;\">\n",
              "\n",
              "<svg xmlns=\"http://www.w3.org/2000/svg\" height=\"24px\"viewBox=\"0 0 24 24\"\n",
              "     width=\"24px\">\n",
              "    <g>\n",
              "        <path d=\"M19 3H5c-1.1 0-2 .9-2 2v14c0 1.1.9 2 2 2h14c1.1 0 2-.9 2-2V5c0-1.1-.9-2-2-2zM9 17H7v-7h2v7zm4 0h-2V7h2v10zm4 0h-2v-4h2v4z\"/>\n",
              "    </g>\n",
              "</svg>\n",
              "  </button>\n",
              "\n",
              "<style>\n",
              "  .colab-df-quickchart {\n",
              "      --bg-color: #E8F0FE;\n",
              "      --fill-color: #1967D2;\n",
              "      --hover-bg-color: #E2EBFA;\n",
              "      --hover-fill-color: #174EA6;\n",
              "      --disabled-fill-color: #AAA;\n",
              "      --disabled-bg-color: #DDD;\n",
              "  }\n",
              "\n",
              "  [theme=dark] .colab-df-quickchart {\n",
              "      --bg-color: #3B4455;\n",
              "      --fill-color: #D2E3FC;\n",
              "      --hover-bg-color: #434B5C;\n",
              "      --hover-fill-color: #FFFFFF;\n",
              "      --disabled-bg-color: #3B4455;\n",
              "      --disabled-fill-color: #666;\n",
              "  }\n",
              "\n",
              "  .colab-df-quickchart {\n",
              "    background-color: var(--bg-color);\n",
              "    border: none;\n",
              "    border-radius: 50%;\n",
              "    cursor: pointer;\n",
              "    display: none;\n",
              "    fill: var(--fill-color);\n",
              "    height: 32px;\n",
              "    padding: 0;\n",
              "    width: 32px;\n",
              "  }\n",
              "\n",
              "  .colab-df-quickchart:hover {\n",
              "    background-color: var(--hover-bg-color);\n",
              "    box-shadow: 0 1px 2px rgba(60, 64, 67, 0.3), 0 1px 3px 1px rgba(60, 64, 67, 0.15);\n",
              "    fill: var(--button-hover-fill-color);\n",
              "  }\n",
              "\n",
              "  .colab-df-quickchart-complete:disabled,\n",
              "  .colab-df-quickchart-complete:disabled:hover {\n",
              "    background-color: var(--disabled-bg-color);\n",
              "    fill: var(--disabled-fill-color);\n",
              "    box-shadow: none;\n",
              "  }\n",
              "\n",
              "  .colab-df-spinner {\n",
              "    border: 2px solid var(--fill-color);\n",
              "    border-color: transparent;\n",
              "    border-bottom-color: var(--fill-color);\n",
              "    animation:\n",
              "      spin 1s steps(1) infinite;\n",
              "  }\n",
              "\n",
              "  @keyframes spin {\n",
              "    0% {\n",
              "      border-color: transparent;\n",
              "      border-bottom-color: var(--fill-color);\n",
              "      border-left-color: var(--fill-color);\n",
              "    }\n",
              "    20% {\n",
              "      border-color: transparent;\n",
              "      border-left-color: var(--fill-color);\n",
              "      border-top-color: var(--fill-color);\n",
              "    }\n",
              "    30% {\n",
              "      border-color: transparent;\n",
              "      border-left-color: var(--fill-color);\n",
              "      border-top-color: var(--fill-color);\n",
              "      border-right-color: var(--fill-color);\n",
              "    }\n",
              "    40% {\n",
              "      border-color: transparent;\n",
              "      border-right-color: var(--fill-color);\n",
              "      border-top-color: var(--fill-color);\n",
              "    }\n",
              "    60% {\n",
              "      border-color: transparent;\n",
              "      border-right-color: var(--fill-color);\n",
              "    }\n",
              "    80% {\n",
              "      border-color: transparent;\n",
              "      border-right-color: var(--fill-color);\n",
              "      border-bottom-color: var(--fill-color);\n",
              "    }\n",
              "    90% {\n",
              "      border-color: transparent;\n",
              "      border-bottom-color: var(--fill-color);\n",
              "    }\n",
              "  }\n",
              "</style>\n",
              "\n",
              "  <script>\n",
              "    async function quickchart(key) {\n",
              "      const quickchartButtonEl =\n",
              "        document.querySelector('#' + key + ' button');\n",
              "      quickchartButtonEl.disabled = true;  // To prevent multiple clicks.\n",
              "      quickchartButtonEl.classList.add('colab-df-spinner');\n",
              "      try {\n",
              "        const charts = await google.colab.kernel.invokeFunction(\n",
              "            'suggestCharts', [key], {});\n",
              "      } catch (error) {\n",
              "        console.error('Error during call to suggestCharts:', error);\n",
              "      }\n",
              "      quickchartButtonEl.classList.remove('colab-df-spinner');\n",
              "      quickchartButtonEl.classList.add('colab-df-quickchart-complete');\n",
              "    }\n",
              "    (() => {\n",
              "      let quickchartButtonEl =\n",
              "        document.querySelector('#df-4675436a-6a0f-4175-9922-1d084182af37 button');\n",
              "      quickchartButtonEl.style.display =\n",
              "        google.colab.kernel.accessAllowed ? 'block' : 'none';\n",
              "    })();\n",
              "  </script>\n",
              "</div>\n",
              "    </div>\n",
              "  </div>\n"
            ]
          },
          "metadata": {},
          "execution_count": 39
        }
      ]
    },
    {
      "cell_type": "code",
      "execution_count": null,
      "metadata": {
        "id": "i48GmStrt1Rb",
        "colab": {
          "base_uri": "https://localhost:8080/"
        },
        "outputId": "00aedc06-6965-47dd-8d13-00fa32f47d2e"
      },
      "outputs": [
        {
          "output_type": "stream",
          "name": "stdout",
          "text": [
            "====================================\n",
            "Task 2.2: 2023-09-02 02:03:00.100074\n",
            "====================================\n"
          ]
        }
      ],
      "source": [
        "done('Task 2.2')"
      ]
    },
    {
      "cell_type": "markdown",
      "source": [
        "## Task 3: BoW\n",
        "\n",
        "Task 3: BoW: Prepare Bag of Words (BoW) from the dataset\n"
      ],
      "metadata": {
        "id": "vzB9KKCft1m4"
      }
    },
    {
      "cell_type": "code",
      "source": [
        "# TODO\n",
        "from sklearn.feature_extraction.text import CountVectorizer\n",
        "import re\n",
        "nepali_number_pattern = re.compile(r'[०-९]+')\n",
        "def remove_nepali_numbers(text):\n",
        "    return nepali_number_pattern.sub('', text)\n",
        "\n",
        "data['preprocessed_headlines'] = data['preprocessed_headlines'].apply(remove_nepali_numbers)\n",
        "\n",
        "vectorizer = CountVectorizer()\n",
        "\n",
        "X = vectorizer.fit_transform(data['preprocessed_headlines'])\n",
        "bow_array = X.toarray()\n",
        "feature_names = vectorizer.get_feature_names_out()\n",
        "df_bow = pd.DataFrame(bow_array, columns=feature_names)\n",
        "print(df_bow)"
      ],
      "metadata": {
        "id": "8QopY4_5t1m5",
        "colab": {
          "base_uri": "https://localhost:8080/"
        },
        "outputId": "f01808db-0858-4964-b58b-4d1730d0488d"
      },
      "execution_count": 42,
      "outputs": [
        {
          "output_type": "stream",
          "name": "stdout",
          "text": [
            "     अघ  अद  अध  अन  अप  अपर  अब  अभ  अम  अर  ...  सहमत  हक  हकप  हच  हज  हट  \\\n",
            "0     0   0   0   0   0    0   0   0   0   0  ...     0   0    0   0   0   0   \n",
            "1     0   0   0   0   0    0   0   0   0   0  ...     0   0    0   0   0   0   \n",
            "2     0   0   0   0   0    0   0   0   0   0  ...     0   0    0   0   0   0   \n",
            "3     0   0   0   0   0    0   0   0   0   0  ...     0   0    0   0   0   0   \n",
            "4     0   0   0   0   0    0   0   0   0   0  ...     0   0    0   0   0   0   \n",
            "..   ..  ..  ..  ..  ..  ...  ..  ..  ..  ..  ...   ...  ..  ...  ..  ..  ..   \n",
            "174   0   0   0   0   0    0   0   0   0   0  ...     0   0    0   0   0   0   \n",
            "175   0   0   0   0   0    0   0   0   0   0  ...     0   0    0   0   0   0   \n",
            "176   0   0   0   0   0    0   0   0   0   0  ...     0   0    0   0   0   0   \n",
            "177   0   0   0   0   0    0   0   0   0   0  ...     0   0    0   0   0   0   \n",
            "178   0   0   0   0   0    0   0   0   0   0  ...     0   0    0   0   1   0   \n",
            "\n",
            "     हत  हदरव  हर  हस  \n",
            "0     0     0   0   0  \n",
            "1     0     0   0   0  \n",
            "2     0     0   0   0  \n",
            "3     0     0   0   0  \n",
            "4     0     0   0   0  \n",
            "..   ..   ...  ..  ..  \n",
            "174   0     0   0   0  \n",
            "175   0     0   0   0  \n",
            "176   0     0   0   0  \n",
            "177   0     0   0   0  \n",
            "178   0     0   0   0  \n",
            "\n",
            "[179 rows x 386 columns]\n"
          ]
        }
      ]
    },
    {
      "cell_type": "code",
      "execution_count": null,
      "metadata": {
        "id": "oMiG5F46t1m6",
        "colab": {
          "base_uri": "https://localhost:8080/"
        },
        "outputId": "a65f728e-b4ee-4290-d6c7-1370d35df2b0"
      },
      "outputs": [
        {
          "output_type": "stream",
          "name": "stdout",
          "text": [
            "==================================\n",
            "Task 3: 2023-09-02 02:03:00.121642\n",
            "==================================\n"
          ]
        }
      ],
      "source": [
        "done('Task 3')"
      ]
    },
    {
      "cell_type": "markdown",
      "source": [
        "## Task 4: Classification\n",
        "\n",
        "Classify the news based on Keywords and BoW you computed in Task 3.1"
      ],
      "metadata": {
        "id": "kCtEg1LNt3CO"
      }
    },
    {
      "cell_type": "code",
      "source": [
        "from sklearn.preprocessing import LabelEncoder\n",
        "from sklearn.model_selection import train_test_split\n",
        "from sklearn.naive_bayes import MultinomialNB\n",
        "from sklearn.metrics import accuracy_score, classification_report\n",
        "\n",
        "X_bow = vectorizer.fit_transform(data['preprocessed_headlines'])\n",
        "label_encoder = LabelEncoder()\n",
        "y_encoded = label_encoder.fit_transform(data['Category'])\n",
        "\n",
        "\n",
        "# Split data into training and testing sets\n",
        "X_train, X_test, y_train, y_test = train_test_split(X_bow, y_encoded, test_size=0.2, random_state=42)\n",
        "\n",
        "clf = MultinomialNB()\n",
        "clf.fit(X_train, y_train)\n",
        "y_pred = clf.predict(X_test)\n",
        "\n",
        "accuracy = accuracy_score(y_test, y_pred)\n",
        "report = classification_report(y_test, y_pred, target_names=label_encoder.classes_)\n",
        "\n",
        "\n",
        "print(f\"Accuracy Naive Bayes: {accuracy}\")\n",
        "print(\"Classification Report Naive Bayes:\\n\", report)\n"
      ],
      "metadata": {
        "id": "Jn6lGM75t3CP",
        "colab": {
          "base_uri": "https://localhost:8080/"
        },
        "outputId": "1b884bf4-c3e8-4a1f-8090-dcbe4affeb77"
      },
      "execution_count": 43,
      "outputs": [
        {
          "output_type": "stream",
          "name": "stdout",
          "text": [
            "Accuracy Naive Bayes: 0.75\n",
            "Classification Report Naive Bayes:\n",
            "               precision    recall  f1-score   support\n",
            "\n",
            "     economy       0.67      0.40      0.50        10\n",
            "    politics       0.81      0.81      0.81        16\n",
            "      sports       0.71      1.00      0.83        10\n",
            "\n",
            "    accuracy                           0.75        36\n",
            "   macro avg       0.73      0.74      0.72        36\n",
            "weighted avg       0.74      0.75      0.73        36\n",
            "\n"
          ]
        }
      ]
    },
    {
      "cell_type": "code",
      "source": [
        "from sklearn.ensemble import RandomForestClassifier\n",
        "clf = RandomForestClassifier()\n",
        "clf.fit(X_train, y_train)\n",
        "\n",
        "y_pred = clf.predict(X_test)\n",
        "\n",
        "accuracy = accuracy_score(y_test, y_pred)\n",
        "report = classification_report(y_test, y_pred, target_names=label_encoder.classes_)\n",
        "\n",
        "\n",
        "print(f\"Accuracy Random Forest: {accuracy}\")\n",
        "print(\"Classification Report Random Forest:\\n\", report)"
      ],
      "metadata": {
        "colab": {
          "base_uri": "https://localhost:8080/"
        },
        "id": "25JsQlg8Ydfp",
        "outputId": "eda68cf2-1c0b-44b9-cd4d-ceb7a87f7814"
      },
      "execution_count": 44,
      "outputs": [
        {
          "output_type": "stream",
          "name": "stdout",
          "text": [
            "Accuracy Random Forest: 0.5833333333333334\n",
            "Classification Report Random Forest:\n",
            "               precision    recall  f1-score   support\n",
            "\n",
            "     economy       0.50      0.20      0.29        10\n",
            "    politics       0.75      0.56      0.64        16\n",
            "      sports       0.50      1.00      0.67        10\n",
            "\n",
            "    accuracy                           0.58        36\n",
            "   macro avg       0.58      0.59      0.53        36\n",
            "weighted avg       0.61      0.58      0.55        36\n",
            "\n"
          ]
        }
      ]
    },
    {
      "cell_type": "code",
      "source": [
        "from sklearn.ensemble import GradientBoostingClassifier\n",
        "clf = GradientBoostingClassifier()\n",
        "clf.fit(X_train, y_train)\n",
        "\n",
        "y_pred = clf.predict(X_test)\n",
        "\n",
        "accuracy = accuracy_score(y_test, y_pred)\n",
        "report = classification_report(y_test, y_pred, target_names=label_encoder.classes_)\n",
        "\n",
        "\n",
        "print(f\"Accuracy Gradient boosting : {accuracy}\")\n",
        "print(\"Classification Report Gradient boosting :\\n\", report)"
      ],
      "metadata": {
        "colab": {
          "base_uri": "https://localhost:8080/"
        },
        "id": "x2lB2FvmYivU",
        "outputId": "b9442e43-0e62-470a-c529-65aa09e344e8"
      },
      "execution_count": 45,
      "outputs": [
        {
          "output_type": "stream",
          "name": "stdout",
          "text": [
            "Accuracy Gradient boosting : 0.6944444444444444\n",
            "Classification Report Gradient boosting :\n",
            "               precision    recall  f1-score   support\n",
            "\n",
            "     economy       0.60      0.60      0.60        10\n",
            "    politics       0.77      0.62      0.69        16\n",
            "      sports       0.69      0.90      0.78        10\n",
            "\n",
            "    accuracy                           0.69        36\n",
            "   macro avg       0.69      0.71      0.69        36\n",
            "weighted avg       0.70      0.69      0.69        36\n",
            "\n"
          ]
        }
      ]
    },
    {
      "cell_type": "code",
      "execution_count": null,
      "metadata": {
        "id": "h8aRgsHVt3CQ",
        "colab": {
          "base_uri": "https://localhost:8080/"
        },
        "outputId": "de8534c9-2f3e-450a-d1c8-dfd0bae711b6"
      },
      "outputs": [
        {
          "output_type": "stream",
          "name": "stdout",
          "text": [
            "==================================\n",
            "Task 4: 2023-09-02 02:03:00.139045\n",
            "==================================\n"
          ]
        }
      ],
      "source": [
        "done('Task 4')"
      ]
    }
  ]
}